{
 "cells": [
  {
   "cell_type": "markdown",
   "source": [
    "# Imports"
   ],
   "metadata": {
    "collapsed": false
   }
  },
  {
   "cell_type": "code",
   "execution_count": 1,
   "outputs": [],
   "source": [
    "from collections import Counter\n",
    "import matplotlib.pyplot as plt\n",
    "from datasets import load_dataset\n",
    "import pandas as pd\n",
    "import numpy as np\n",
    "\n",
    "from tqdm import tqdm\n",
    "\n",
    "import nltk\n",
    "from nltk.corpus import stopwords\n",
    "from nltk.tokenize import word_tokenize\n",
    "\n",
    "from tensorflow import keras\n",
    "from keras import layers\n",
    "from keras.preprocessing.text import Tokenizer\n",
    "from tensorflow.keras.preprocessing.sequence import pad_sequences\n",
    "from keras.callbacks import EarlyStopping\n",
    "\n",
    "from sklearn.model_selection import train_test_split\n",
    "\n",
    "from imblearn.over_sampling import SMOTE"
   ],
   "metadata": {
    "collapsed": false,
    "ExecuteTime": {
     "end_time": "2023-05-31T19:45:12.114036600Z",
     "start_time": "2023-05-31T19:45:03.379656Z"
    }
   }
  },
  {
   "cell_type": "markdown",
   "source": [
    "# 1. Load and concatenate splitted dataset"
   ],
   "metadata": {
    "collapsed": false
   }
  },
  {
   "cell_type": "code",
   "execution_count": 2,
   "outputs": [
    {
     "name": "stderr",
     "output_type": "stream",
     "text": [
      "Found cached dataset gnad10 (C:/Users/tomas/.cache/huggingface/datasets/gnad10/default/1.1.0/3a8445be65795ad88270af4d797034c3d99f70f8352ca658c586faf1cf960881)\n"
     ]
    },
    {
     "data": {
      "text/plain": "  0%|          | 0/2 [00:00<?, ?it/s]",
      "application/vnd.jupyter.widget-view+json": {
       "version_major": 2,
       "version_minor": 0,
       "model_id": "1c4bbffeed3046a690f840c5ab2e99cd"
      }
     },
     "metadata": {},
     "output_type": "display_data"
    }
   ],
   "source": [
    "dataset = load_dataset('gnad10')\n",
    "df_train = dataset['train']\n",
    "df_test = dataset['test']\n",
    "df = pd.concat([pd.DataFrame(df_train), pd.DataFrame(df_test)], axis=0)"
   ],
   "metadata": {
    "collapsed": false,
    "ExecuteTime": {
     "end_time": "2023-05-31T19:45:15.399181400Z",
     "start_time": "2023-05-31T19:45:12.118251700Z"
    }
   }
  },
  {
   "cell_type": "markdown",
   "source": [
    "# 2. Remove stopwords, tokenize and pad text sequences"
   ],
   "metadata": {
    "collapsed": false
   }
  },
  {
   "cell_type": "code",
   "execution_count": 3,
   "outputs": [
    {
     "name": "stderr",
     "output_type": "stream",
     "text": [
      "[nltk_data] Downloading package stopwords to\n",
      "[nltk_data]     C:\\Users\\tomas\\AppData\\Roaming\\nltk_data...\n",
      "[nltk_data]   Package stopwords is already up-to-date!\n"
     ]
    }
   ],
   "source": [
    "nltk.download('stopwords')\n",
    "stop_words = set(stopwords.words('german'))"
   ],
   "metadata": {
    "collapsed": false,
    "ExecuteTime": {
     "end_time": "2023-05-31T19:45:15.560593Z",
     "start_time": "2023-05-31T19:45:15.403174800Z"
    }
   }
  },
  {
   "cell_type": "code",
   "execution_count": 4,
   "outputs": [
    {
     "name": "stderr",
     "output_type": "stream",
     "text": [
      "Train tokenization: 100%|██████████| 10273/10273 [00:46<00:00, 220.29it/s]\n"
     ]
    }
   ],
   "source": [
    "text_tokens = [word_tokenize(text) for text in tqdm(df['text'], desc='Train tokenization')]"
   ],
   "metadata": {
    "collapsed": false,
    "ExecuteTime": {
     "end_time": "2023-05-31T19:46:02.212990500Z",
     "start_time": "2023-05-31T19:45:15.565629500Z"
    }
   }
  },
  {
   "cell_type": "code",
   "execution_count": 5,
   "outputs": [
    {
     "name": "stderr",
     "output_type": "stream",
     "text": [
      "Removing stop words: 100%|██████████| 10273/10273 [00:01<00:00, 9321.01it/s]\n"
     ]
    }
   ],
   "source": [
    "text_filtered = [[token for token in text if token.lower() not in stop_words] for text in tqdm(text_tokens, desc='Removing stop words')]"
   ],
   "metadata": {
    "collapsed": false,
    "ExecuteTime": {
     "end_time": "2023-05-31T19:46:03.327832300Z",
     "start_time": "2023-05-31T19:46:02.213985300Z"
    }
   }
  },
  {
   "cell_type": "code",
   "execution_count": 6,
   "outputs": [],
   "source": [
    "tokenizer = Tokenizer()\n",
    "tokenizer.fit_on_texts(text_filtered)\n",
    "text_tokenized = tokenizer.texts_to_sequences(text_filtered)"
   ],
   "metadata": {
    "collapsed": false,
    "ExecuteTime": {
     "end_time": "2023-05-31T19:46:07.580115400Z",
     "start_time": "2023-05-31T19:46:03.328832900Z"
    }
   }
  },
  {
   "cell_type": "code",
   "execution_count": 7,
   "outputs": [
    {
     "name": "stdout",
     "output_type": "stream",
     "text": [
      "3163\n"
     ]
    },
    {
     "data": {
      "text/plain": "342"
     },
     "execution_count": 7,
     "metadata": {},
     "output_type": "execute_result"
    }
   ],
   "source": [
    "length = [len(token_list) for token_list in text_tokenized]\n",
    "print(max(length))\n",
    "SEQUENCE_LENGTH = int(np.quantile(length, 0.75))\n",
    "SEQUENCE_LENGTH"
   ],
   "metadata": {
    "collapsed": false,
    "ExecuteTime": {
     "end_time": "2023-05-31T19:46:07.594252700Z",
     "start_time": "2023-05-31T19:46:07.583118Z"
    }
   }
  },
  {
   "cell_type": "code",
   "execution_count": 8,
   "outputs": [],
   "source": [
    "text_padded = pad_sequences(text_tokenized, maxlen=1250) # SEQUENCE_LENGTH"
   ],
   "metadata": {
    "collapsed": false,
    "ExecuteTime": {
     "end_time": "2023-05-31T19:46:07.816592700Z",
     "start_time": "2023-05-31T19:46:07.599789400Z"
    }
   }
  },
  {
   "cell_type": "markdown",
   "source": [
    "# 3. Split dataframe into train and test subsets"
   ],
   "metadata": {
    "collapsed": false
   }
  },
  {
   "cell_type": "code",
   "execution_count": 9,
   "outputs": [],
   "source": [
    "X_train, x_test, y_train, y_test = train_test_split(text_padded, df['label'], test_size=0.2, stratify=df['label'])"
   ],
   "metadata": {
    "collapsed": false,
    "ExecuteTime": {
     "end_time": "2023-05-31T19:46:07.861776800Z",
     "start_time": "2023-05-31T19:46:07.821612200Z"
    }
   }
  },
  {
   "cell_type": "markdown",
   "source": [
    "# 4. Get class weights"
   ],
   "metadata": {
    "collapsed": false
   }
  },
  {
   "cell_type": "code",
   "execution_count": 10,
   "outputs": [
    {
     "name": "stdout",
     "output_type": "stream",
     "text": [
      "class weights:\n",
      " {2: 0.7552614649388842, 3: 0.8087786635173704, 1: 0.6804106640172214, 4: 0.9501676494392416, 0: 0.6804106640172214, 8: 2.1185872647589585, 7: 1.9936923823386703, 5: 1.1245210727969348, 6: 1.709945900957137}\n"
     ]
    }
   ],
   "source": [
    "class_counts = Counter(y_train)\n",
    "samples = sum(class_counts.values())\n",
    "class_weights = {}\n",
    "for label, count in class_counts.items():\n",
    "    class_weights[label] = (1 / count) * (samples / len(class_counts))\n",
    "\n",
    "print(f'class weights:\\n {class_weights}')"
   ],
   "metadata": {
    "collapsed": false,
    "ExecuteTime": {
     "end_time": "2023-05-31T19:46:07.871312200Z",
     "start_time": "2023-05-31T19:46:07.856766600Z"
    }
   }
  },
  {
   "cell_type": "markdown",
   "source": [
    "# 5. Apply *SMOTE* on train data (optional)"
   ],
   "metadata": {
    "collapsed": false
   }
  },
  {
   "cell_type": "markdown",
   "source": [
    "`smote = SMOTE()\n",
    "X_train, y_train = smote.fit_resample(X_train, y_train)`"
   ],
   "metadata": {
    "collapsed": false
   }
  },
  {
   "cell_type": "code",
   "execution_count": 11,
   "outputs": [
    {
     "name": "stdout",
     "output_type": "stream",
     "text": [
      "shape of train texts: (8218, 1250)\n",
      "shape of train labels: (8218,)\n",
      "shape of test texts: (2055, 1250)\n",
      "shape of test labels: (2055,)\n"
     ]
    }
   ],
   "source": [
    "print(f'shape of train texts: {X_train.shape}\\n'\n",
    "      f'shape of train labels: {y_train.shape}\\n'\n",
    "      f'shape of test texts: {x_test.shape}\\n'\n",
    "      f'shape of test labels: {y_test.shape}')"
   ],
   "metadata": {
    "collapsed": false,
    "ExecuteTime": {
     "end_time": "2023-05-31T19:46:07.883411600Z",
     "start_time": "2023-05-31T19:46:07.873317800Z"
    }
   }
  },
  {
   "cell_type": "markdown",
   "source": [
    "# 6. Define the model"
   ],
   "metadata": {
    "collapsed": false
   }
  },
  {
   "cell_type": "code",
   "execution_count": 12,
   "outputs": [],
   "source": [
    "VOCAB_LENGTH = len(tokenizer.word_index) + 1\n",
    "VECTOR_SIZE = 100\n",
    "\n",
    "def get_model():\n",
    "\n",
    "      model = keras.Sequential()\n",
    "      model.add(layers.Embedding(input_dim=VOCAB_LENGTH, output_dim=VECTOR_SIZE, input_length=1250))\n",
    "\n",
    "      model.add(layers.Conv1D(filters=128, kernel_size=3, activation='relu'))\n",
    "      model.add(layers.GlobalMaxPooling1D())\n",
    "      model.add(layers.Dense(256, activation='relu'))\n",
    "      model.add(layers.Dropout(0.5))\n",
    "\n",
    "      model.add(layers.Dense(9, activation='softmax'))\n",
    "      model.compile(loss='sparse_categorical_crossentropy', optimizer='adam', metrics=['accuracy'])\n",
    "\n",
    "      return model"
   ],
   "metadata": {
    "collapsed": false,
    "ExecuteTime": {
     "end_time": "2023-05-31T19:46:07.964957900Z",
     "start_time": "2023-05-31T19:46:07.888Z"
    }
   }
  },
  {
   "cell_type": "code",
   "execution_count": 13,
   "outputs": [
    {
     "name": "stdout",
     "output_type": "stream",
     "text": [
      "Model: \"sequential\"\n",
      "_________________________________________________________________\n",
      " Layer (type)                Output Shape              Param #   \n",
      "=================================================================\n",
      " embedding (Embedding)       (None, 1250, 100)         22666300  \n",
      "                                                                 \n",
      " conv1d (Conv1D)             (None, 1248, 128)         38528     \n",
      "                                                                 \n",
      " global_max_pooling1d (Globa  (None, 128)              0         \n",
      " lMaxPooling1D)                                                  \n",
      "                                                                 \n",
      " dense (Dense)               (None, 256)               33024     \n",
      "                                                                 \n",
      " dropout (Dropout)           (None, 256)               0         \n",
      "                                                                 \n",
      " dense_1 (Dense)             (None, 9)                 2313      \n",
      "                                                                 \n",
      "=================================================================\n",
      "Total params: 22,740,165\n",
      "Trainable params: 22,740,165\n",
      "Non-trainable params: 0\n",
      "_________________________________________________________________\n"
     ]
    }
   ],
   "source": [
    "model = get_model()\n",
    "model.summary()"
   ],
   "metadata": {
    "collapsed": false,
    "ExecuteTime": {
     "end_time": "2023-05-31T19:46:08.704113Z",
     "start_time": "2023-05-31T19:46:07.900168500Z"
    }
   }
  },
  {
   "cell_type": "markdown",
   "source": [
    "# 7. Train the model, get metrics"
   ],
   "metadata": {
    "collapsed": false
   }
  },
  {
   "cell_type": "code",
   "execution_count": 14,
   "outputs": [],
   "source": [
    "early_stop = EarlyStopping(monitor='val_loss', patience=2, verbose=2, mode='min')"
   ],
   "metadata": {
    "collapsed": false,
    "ExecuteTime": {
     "end_time": "2023-05-31T19:46:08.704113Z",
     "start_time": "2023-05-31T19:46:08.651300500Z"
    }
   }
  },
  {
   "cell_type": "code",
   "execution_count": 15,
   "outputs": [
    {
     "name": "stdout",
     "output_type": "stream",
     "text": [
      "Epoch 1/10\n",
      "257/257 [==============================] - 140s 539ms/step - loss: 1.8085 - accuracy: 0.3608 - val_loss: 0.9739 - val_accuracy: 0.6891\n",
      "Epoch 2/10\n",
      "257/257 [==============================] - 120s 467ms/step - loss: 0.7244 - accuracy: 0.7768 - val_loss: 0.6669 - val_accuracy: 0.7810\n",
      "Epoch 3/10\n",
      "257/257 [==============================] - 116s 451ms/step - loss: 0.1537 - accuracy: 0.9577 - val_loss: 0.5902 - val_accuracy: 0.8015\n",
      "Epoch 4/10\n",
      "257/257 [==============================] - 131s 511ms/step - loss: 0.0283 - accuracy: 0.9961 - val_loss: 0.6136 - val_accuracy: 0.8112\n",
      "Epoch 5/10\n",
      "257/257 [==============================] - 131s 510ms/step - loss: 0.0088 - accuracy: 0.9995 - val_loss: 0.6161 - val_accuracy: 0.8165\n",
      "Epoch 5: early stopping\n"
     ]
    }
   ],
   "source": [
    "history = model.fit(X_train, y_train, validation_data=(x_test, y_test), epochs=10, callbacks=[early_stop], class_weight=class_weights)"
   ],
   "metadata": {
    "collapsed": false,
    "ExecuteTime": {
     "end_time": "2023-05-31T19:56:46.810965500Z",
     "start_time": "2023-05-31T19:46:08.661261Z"
    }
   }
  },
  {
   "cell_type": "markdown",
   "source": [
    "# 8. Visualize metrics"
   ],
   "metadata": {
    "collapsed": false
   }
  },
  {
   "cell_type": "code",
   "execution_count": 16,
   "outputs": [
    {
     "data": {
      "text/plain": "<Figure size 640x480 with 1 Axes>",
      "image/png": "[encoded data removed]"
     },
     "metadata": {},
     "output_type": "display_data"
    },
    {
     "data": {
      "text/plain": "<Figure size 640x480 with 1 Axes>",
      "image/png": "[encoded data removed]"
     },
     "metadata": {},
     "output_type": "display_data"
    }
   ],
   "source": [
    "plt.plot(history.history['loss'], label='Training loss')\n",
    "plt.plot(history.history['val_loss'], label='Validation loss')\n",
    "plt.title('Training and validation loss')\n",
    "plt.xlabel('Epoch')\n",
    "plt.ylabel('Loss')\n",
    "plt.legend()\n",
    "plt.show()\n",
    "\n",
    "# plot training and validation accuracy\n",
    "plt.plot(history.history['accuracy'], label='Training accuracy')\n",
    "plt.plot(history.history['val_accuracy'], label='Validation accuracy')\n",
    "plt.title('Training and validation accuracy')\n",
    "plt.xlabel('Epoch')\n",
    "plt.ylabel('Accuracy')\n",
    "plt.legend()\n",
    "plt.show()"
   ],
   "metadata": {
    "collapsed": false,
    "ExecuteTime": {
     "end_time": "2023-05-31T19:56:47.734620Z",
     "start_time": "2023-05-31T19:56:46.814963300Z"
    }
   }
  },
  {
   "cell_type": "code",
   "execution_count": 17,
   "outputs": [
    {
     "name": "stdout",
     "output_type": "stream",
     "text": [
      "65/65 [==============================] - 4s 55ms/step\n",
      "[[288   4  14  14   1   4   9   1   0]\n",
      " [  0 263  13  10   2  33   4   4   7]\n",
      " [  2  20 254  13   1   1   9   1   1]\n",
      " [ 11  20   9 215   5  19   1   2   0]\n",
      " [  0   6   1   0 227   1   2   0   3]\n",
      " [  1  26   1  15   0 151   1   5   3]\n",
      " [  5   6   4   4   1   7  99   0   8]\n",
      " [  0   5   1   0   0   2   2  97   8]\n",
      " [  3   8   0   1   1   2   5   4  84]]\n"
     ]
    }
   ],
   "source": [
    "from sklearn.metrics import confusion_matrix\n",
    "\n",
    "y_pred = model.predict(x_test)\n",
    "y_pred = np.argmax(y_pred, axis=1)  # Convert probabilities to class labels if needed\n",
    "\n",
    "# Convert the labels to numpy arrays if they are not already\n",
    "y_test = np.array(y_test)\n",
    "y_pred = np.array(y_pred)\n",
    "\n",
    "# Create the confusion matrix\n",
    "cm = confusion_matrix(y_test, y_pred)\n",
    "\n",
    "print(cm)"
   ],
   "metadata": {
    "collapsed": false,
    "ExecuteTime": {
     "end_time": "2023-05-31T19:56:51.730898700Z",
     "start_time": "2023-05-31T19:56:47.733620800Z"
    }
   }
  },
  {
   "cell_type": "markdown",
   "source": [
    "* True distribution:\n",
    "[(0, 335),\n",
    " (1, 336),\n",
    " (2, 302),\n",
    " (3, 282),\n",
    " (4, 240),\n",
    " (5, 203),\n",
    " (6, 134),\n",
    " (7, 115),\n",
    " (8, 108)]"
   ],
   "metadata": {
    "collapsed": false
   }
  },
  {
   "cell_type": "code",
   "execution_count": 17,
   "outputs": [],
   "source": [],
   "metadata": {
    "collapsed": false,
    "ExecuteTime": {
     "end_time": "2023-05-31T19:56:51.739457800Z",
     "start_time": "2023-05-31T19:56:51.729883800Z"
    }
   }
  }
 ],
 "metadata": {
  "kernelspec": {
   "display_name": "Python 3",
   "language": "python",
   "name": "python3"
  },
  "language_info": {
   "codemirror_mode": {
    "name": "ipython",
    "version": 2
   },
   "file_extension": ".py",
   "mimetype": "text/x-python",
   "name": "python",
   "nbconvert_exporter": "python",
   "pygments_lexer": "ipython2",
   "version": "2.7.6"
  }
 },
 "nbformat": 4,
 "nbformat_minor": 0
}
