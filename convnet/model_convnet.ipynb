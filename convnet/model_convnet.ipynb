{
 "cells": [
  {
   "cell_type": "markdown",
   "source": [
    "# Imports"
   ],
   "metadata": {
    "collapsed": false
   }
  },
  {
   "cell_type": "code",
   "execution_count": 1,
   "outputs": [],
   "source": [
    "from collections import Counter\n",
    "import matplotlib.pyplot as plt\n",
    "from datasets import load_dataset\n",
    "import pandas as pd\n",
    "import numpy as np\n",
    "\n",
    "from tqdm import tqdm\n",
    "\n",
    "import nltk\n",
    "from nltk.corpus import stopwords\n",
    "from nltk.tokenize import word_tokenize\n",
    "\n",
    "from tensorflow import keras\n",
    "from keras import layers\n",
    "from keras.preprocessing.text import Tokenizer\n",
    "from tensorflow.keras.preprocessing.sequence import pad_sequences\n",
    "from keras.callbacks import EarlyStopping\n",
    "\n",
    "from sklearn.model_selection import train_test_split\n",
    "\n",
    "from imblearn.over_sampling import SMOTE"
   ],
   "metadata": {
    "collapsed": false,
    "ExecuteTime": {
     "end_time": "2023-05-23T18:48:46.948032300Z",
     "start_time": "2023-05-23T18:48:39.455672100Z"
    }
   }
  },
  {
   "cell_type": "markdown",
   "source": [
    "# 1. Load and concatenate splitted dataset"
   ],
   "metadata": {
    "collapsed": false
   }
  },
  {
   "cell_type": "code",
   "execution_count": 2,
   "outputs": [
    {
     "name": "stderr",
     "output_type": "stream",
     "text": [
      "Found cached dataset gnad10 (C:/Users/tomas/.cache/huggingface/datasets/gnad10/default/1.1.0/3a8445be65795ad88270af4d797034c3d99f70f8352ca658c586faf1cf960881)\n"
     ]
    },
    {
     "data": {
      "text/plain": "  0%|          | 0/2 [00:00<?, ?it/s]",
      "application/vnd.jupyter.widget-view+json": {
       "version_major": 2,
       "version_minor": 0,
       "model_id": "2c590aa2736c48cb99f6d8e2eef61470"
      }
     },
     "metadata": {},
     "output_type": "display_data"
    }
   ],
   "source": [
    "dataset = load_dataset('gnad10')\n",
    "df_train = dataset['train']\n",
    "df_test = dataset['test']\n",
    "df = pd.concat([pd.DataFrame(df_train), pd.DataFrame(df_test)], axis=0)"
   ],
   "metadata": {
    "collapsed": false,
    "ExecuteTime": {
     "end_time": "2023-05-23T18:48:50.263143300Z",
     "start_time": "2023-05-23T18:48:46.954296700Z"
    }
   }
  },
  {
   "cell_type": "markdown",
   "source": [
    "# 2. Remove stopwords, tokenize and pad text sequences"
   ],
   "metadata": {
    "collapsed": false
   }
  },
  {
   "cell_type": "code",
   "execution_count": 3,
   "outputs": [
    {
     "name": "stderr",
     "output_type": "stream",
     "text": [
      "[nltk_data] Downloading package stopwords to\n",
      "[nltk_data]     C:\\Users\\tomas\\AppData\\Roaming\\nltk_data...\n",
      "[nltk_data]   Package stopwords is already up-to-date!\n"
     ]
    }
   ],
   "source": [
    "nltk.download('stopwords')\n",
    "stop_words = set(stopwords.words('german'))"
   ],
   "metadata": {
    "collapsed": false,
    "ExecuteTime": {
     "end_time": "2023-05-23T18:48:50.481264300Z",
     "start_time": "2023-05-23T18:48:50.263143300Z"
    }
   }
  },
  {
   "cell_type": "code",
   "execution_count": 4,
   "outputs": [
    {
     "name": "stderr",
     "output_type": "stream",
     "text": [
      "Train tokenization: 100%|██████████| 10273/10273 [00:42<00:00, 241.75it/s]\n"
     ]
    }
   ],
   "source": [
    "text_tokens = [word_tokenize(text) for text in tqdm(df['text'], desc='Train tokenization')]"
   ],
   "metadata": {
    "collapsed": false,
    "ExecuteTime": {
     "end_time": "2023-05-23T18:49:32.991679500Z",
     "start_time": "2023-05-23T18:48:50.485266100Z"
    }
   }
  },
  {
   "cell_type": "code",
   "execution_count": 5,
   "outputs": [
    {
     "name": "stderr",
     "output_type": "stream",
     "text": [
      "Removing stop words: 100%|██████████| 10273/10273 [00:01<00:00, 9776.80it/s] \n"
     ]
    }
   ],
   "source": [
    "text_filtered = [[token for token in text if token.lower() not in stop_words] for text in tqdm(text_tokens, desc='Removing stop words')]"
   ],
   "metadata": {
    "collapsed": false,
    "ExecuteTime": {
     "end_time": "2023-05-23T18:49:34.054257100Z",
     "start_time": "2023-05-23T18:49:32.994234500Z"
    }
   }
  },
  {
   "cell_type": "code",
   "execution_count": 6,
   "outputs": [],
   "source": [
    "tokenizer = Tokenizer()\n",
    "tokenizer.fit_on_texts(text_filtered)\n",
    "text_tokenized = tokenizer.texts_to_sequences(text_filtered)"
   ],
   "metadata": {
    "collapsed": false,
    "ExecuteTime": {
     "end_time": "2023-05-23T18:49:37.798784500Z",
     "start_time": "2023-05-23T18:49:34.145792800Z"
    }
   }
  },
  {
   "cell_type": "code",
   "execution_count": 7,
   "outputs": [
    {
     "name": "stdout",
     "output_type": "stream",
     "text": [
      "3163\n"
     ]
    },
    {
     "data": {
      "text/plain": "342"
     },
     "execution_count": 7,
     "metadata": {},
     "output_type": "execute_result"
    }
   ],
   "source": [
    "length = [len(token_list) for token_list in text_tokenized]\n",
    "print(max(length))\n",
    "SEQUENCE_LENGTH = int(np.quantile(length, 0.75))\n",
    "SEQUENCE_LENGTH"
   ],
   "metadata": {
    "collapsed": false,
    "ExecuteTime": {
     "end_time": "2023-05-23T18:49:37.812820900Z",
     "start_time": "2023-05-23T18:49:37.799793500Z"
    }
   }
  },
  {
   "cell_type": "code",
   "execution_count": 8,
   "outputs": [],
   "source": [
    "text_padded = pad_sequences(text_tokenized, maxlen=1250) # SEQUENCE_LENGTH"
   ],
   "metadata": {
    "collapsed": false,
    "ExecuteTime": {
     "end_time": "2023-05-23T18:49:38.011969100Z",
     "start_time": "2023-05-23T18:49:37.811821300Z"
    }
   }
  },
  {
   "cell_type": "markdown",
   "source": [
    "# 3. Split dataframe into train and test subsets"
   ],
   "metadata": {
    "collapsed": false
   }
  },
  {
   "cell_type": "code",
   "execution_count": 9,
   "outputs": [],
   "source": [
    "X_train, x_test, y_train, y_test = train_test_split(text_padded, df['label'], test_size=0.2, stratify=df['label'])"
   ],
   "metadata": {
    "collapsed": false,
    "ExecuteTime": {
     "end_time": "2023-05-23T18:49:38.042126400Z",
     "start_time": "2023-05-23T18:49:38.015969900Z"
    }
   }
  },
  {
   "cell_type": "markdown",
   "source": [
    "# 4. Get class weights"
   ],
   "metadata": {
    "collapsed": false
   }
  },
  {
   "cell_type": "code",
   "execution_count": 10,
   "outputs": [
    {
     "name": "stdout",
     "output_type": "stream",
     "text": [
      "class weights:\n",
      " {2: 0.7552614649388842, 4: 0.9501676494392416, 6: 1.709945900957137, 5: 1.1245210727969348, 3: 0.8087786635173704, 0: 0.6804106640172214, 7: 1.9936923823386703, 8: 2.1185872647589585, 1: 0.6804106640172214}\n"
     ]
    }
   ],
   "source": [
    "class_counts = Counter(y_train)\n",
    "samples = sum(class_counts.values())\n",
    "class_weights = {}\n",
    "for label, count in class_counts.items():\n",
    "    class_weights[label] = (1 / count) * (samples / len(class_counts))\n",
    "\n",
    "print(f'class weights:\\n {class_weights}')"
   ],
   "metadata": {
    "collapsed": false,
    "ExecuteTime": {
     "end_time": "2023-05-23T18:49:38.069582900Z",
     "start_time": "2023-05-23T18:49:38.050127400Z"
    }
   }
  },
  {
   "cell_type": "markdown",
   "source": [
    "# 5. Apply *SMOTE* on train data"
   ],
   "metadata": {
    "collapsed": false
   }
  },
  {
   "cell_type": "code",
   "execution_count": 11,
   "outputs": [],
   "source": [
    "smote = SMOTE()\n",
    "X_train, y_train = smote.fit_resample(X_train, y_train)"
   ],
   "metadata": {
    "collapsed": false,
    "ExecuteTime": {
     "end_time": "2023-05-23T18:49:38.461814Z",
     "start_time": "2023-05-23T18:49:38.059392100Z"
    }
   }
  },
  {
   "cell_type": "code",
   "execution_count": 12,
   "outputs": [
    {
     "name": "stdout",
     "output_type": "stream",
     "text": [
      "shape of train texts: (12078, 1250)\n",
      "shape of train labels: (12078,)\n",
      "shape of test texts: (2055, 1250)\n",
      "shape of test labels: (2055,)\n"
     ]
    }
   ],
   "source": [
    "print(f'shape of train texts: {X_train.shape}\\n'\n",
    "      f'shape of train labels: {y_train.shape}\\n'\n",
    "      f'shape of test texts: {x_test.shape}\\n'\n",
    "      f'shape of test labels: {y_test.shape}')"
   ],
   "metadata": {
    "collapsed": false,
    "ExecuteTime": {
     "end_time": "2023-05-23T18:49:38.470365600Z",
     "start_time": "2023-05-23T18:49:38.463816200Z"
    }
   }
  },
  {
   "cell_type": "markdown",
   "source": [
    "# 6. Define the model"
   ],
   "metadata": {
    "collapsed": false
   }
  },
  {
   "cell_type": "code",
   "execution_count": 13,
   "outputs": [],
   "source": [
    "VOCAB_LENGTH = len(tokenizer.word_index) + 1\n",
    "VECTOR_SIZE = 100\n",
    "\n",
    "def get_model():\n",
    "\n",
    "      model = keras.Sequential()\n",
    "      model.add(layers.Embedding(input_dim=VOCAB_LENGTH, output_dim=VECTOR_SIZE, input_length=1250))\n",
    "\n",
    "      model.add(layers.Conv1D(filters=128, kernel_size=3, activation='relu'))\n",
    "      model.add(layers.GlobalMaxPooling1D())\n",
    "      model.add(layers.Dense(256, activation='relu'))\n",
    "      model.add(layers.Dropout(0.5))\n",
    "\n",
    "      model.add(layers.Dense(9, activation='softmax'))\n",
    "      model.compile(loss='sparse_categorical_crossentropy', optimizer='adam', metrics=['accuracy'])\n",
    "\n",
    "      return model"
   ],
   "metadata": {
    "collapsed": false,
    "ExecuteTime": {
     "end_time": "2023-05-23T18:49:38.525599400Z",
     "start_time": "2023-05-23T18:49:38.474396900Z"
    }
   }
  },
  {
   "cell_type": "code",
   "execution_count": 14,
   "outputs": [
    {
     "name": "stdout",
     "output_type": "stream",
     "text": [
      "Model: \"sequential\"\n",
      "_________________________________________________________________\n",
      " Layer (type)                Output Shape              Param #   \n",
      "=================================================================\n",
      " embedding (Embedding)       (None, 1250, 100)         22666300  \n",
      "                                                                 \n",
      " conv1d (Conv1D)             (None, 1248, 128)         38528     \n",
      "                                                                 \n",
      " global_max_pooling1d (Globa  (None, 128)              0         \n",
      " lMaxPooling1D)                                                  \n",
      "                                                                 \n",
      " dense (Dense)               (None, 256)               33024     \n",
      "                                                                 \n",
      " dropout (Dropout)           (None, 256)               0         \n",
      "                                                                 \n",
      " dense_1 (Dense)             (None, 9)                 2313      \n",
      "                                                                 \n",
      "=================================================================\n",
      "Total params: 22,740,165\n",
      "Trainable params: 22,740,165\n",
      "Non-trainable params: 0\n",
      "_________________________________________________________________\n"
     ]
    }
   ],
   "source": [
    "model = get_model()\n",
    "model.summary()"
   ],
   "metadata": {
    "collapsed": false,
    "ExecuteTime": {
     "end_time": "2023-05-23T18:49:39.163320800Z",
     "start_time": "2023-05-23T18:49:38.509472400Z"
    }
   }
  },
  {
   "cell_type": "markdown",
   "source": [
    "# 7. Train the model, get metrics"
   ],
   "metadata": {
    "collapsed": false
   }
  },
  {
   "cell_type": "code",
   "execution_count": 15,
   "outputs": [],
   "source": [
    "early_stop = EarlyStopping(monitor='val_loss', patience=1, verbose=2, mode='min')"
   ],
   "metadata": {
    "collapsed": false,
    "ExecuteTime": {
     "end_time": "2023-05-23T18:49:39.196435300Z",
     "start_time": "2023-05-23T18:49:39.169345900Z"
    }
   }
  },
  {
   "cell_type": "code",
   "execution_count": 16,
   "outputs": [
    {
     "name": "stdout",
     "output_type": "stream",
     "text": [
      "Epoch 1/10\n",
      "378/378 [==============================] - 163s 428ms/step - loss: 1.7864 - accuracy: 0.3383 - val_loss: 0.9877 - val_accuracy: 0.6696\n",
      "Epoch 2/10\n",
      "378/378 [==============================] - 142s 375ms/step - loss: 1.0461 - accuracy: 0.6268 - val_loss: 0.7275 - val_accuracy: 0.7776\n",
      "Epoch 3/10\n",
      "378/378 [==============================] - 147s 388ms/step - loss: 0.4309 - accuracy: 0.8684 - val_loss: 0.7081 - val_accuracy: 0.7786\n",
      "Epoch 4/10\n",
      "378/378 [==============================] - 145s 384ms/step - loss: 0.0588 - accuracy: 0.9907 - val_loss: 0.7384 - val_accuracy: 0.7820\n",
      "Epoch 4: early stopping\n"
     ]
    }
   ],
   "source": [
    "history = model.fit(X_train, y_train, validation_data=(x_test, y_test), epochs=10, callbacks=[early_stop]) #class_weight=class_weights"
   ],
   "metadata": {
    "collapsed": false,
    "ExecuteTime": {
     "end_time": "2023-05-23T18:59:35.989264200Z",
     "start_time": "2023-05-23T18:49:39.174392900Z"
    }
   }
  },
  {
   "cell_type": "markdown",
   "source": [
    "# 8. Visualize metrics"
   ],
   "metadata": {
    "collapsed": false
   }
  },
  {
   "cell_type": "code",
   "execution_count": 17,
   "outputs": [
    {
     "data": {
      "text/plain": "<Figure size 640x480 with 1 Axes>",
      "image/png": "[encoded data removed]"
     },
     "metadata": {},
     "output_type": "display_data"
    },
    {
     "data": {
      "text/plain": "<Figure size 640x480 with 1 Axes>",
      "image/png": "[encoded data removed]"
     },
     "metadata": {},
     "output_type": "display_data"
    }
   ],
   "source": [
    "plt.plot(history.history['loss'], label='Training loss')\n",
    "plt.plot(history.history['val_loss'], label='Validation loss')\n",
    "plt.title('Training and validation loss')\n",
    "plt.xlabel('Epoch')\n",
    "plt.ylabel('Loss')\n",
    "plt.legend()\n",
    "plt.show()\n",
    "\n",
    "# plot training and validation accuracy\n",
    "plt.plot(history.history['accuracy'], label='Training accuracy')\n",
    "plt.plot(history.history['val_accuracy'], label='Validation accuracy')\n",
    "plt.title('Training and validation accuracy')\n",
    "plt.xlabel('Epoch')\n",
    "plt.ylabel('Accuracy')\n",
    "plt.legend()\n",
    "plt.show()"
   ],
   "metadata": {
    "collapsed": false,
    "ExecuteTime": {
     "end_time": "2023-05-23T18:59:36.772849Z",
     "start_time": "2023-05-23T18:59:35.992289300Z"
    }
   }
  },
  {
   "cell_type": "code",
   "execution_count": 18,
   "outputs": [
    {
     "name": "stdout",
     "output_type": "stream",
     "text": [
      "65/65 [==============================] - 3s 45ms/step\n",
      "[[276   4  13  21   3   2  11   2   3]\n",
      " [  4 235  23  24   1  23  10  11   5]\n",
      " [  2  20 253  17   1   4   1   4   0]\n",
      " [  8  11   9 228   1  16   2   5   2]\n",
      " [  1   4   4   3 219   4   1   1   3]\n",
      " [  0  27   2  20   1 142   3   5   3]\n",
      " [  8   4   9   5   3   6  89   3   7]\n",
      " [  3   4   5   6   2   3   1  88   3]\n",
      " [  0   7   3   1   3   3   8   6  77]]\n"
     ]
    }
   ],
   "source": [
    "from sklearn.metrics import confusion_matrix\n",
    "\n",
    "y_pred = model.predict(x_test)\n",
    "y_pred = np.argmax(y_pred, axis=1)  # Convert probabilities to class labels if needed\n",
    "\n",
    "# Convert the labels to numpy arrays if they are not already\n",
    "y_test = np.array(y_test)\n",
    "y_pred = np.array(y_pred)\n",
    "\n",
    "# Create the confusion matrix\n",
    "cm = confusion_matrix(y_test, y_pred)\n",
    "\n",
    "print(cm)"
   ],
   "metadata": {
    "collapsed": false,
    "ExecuteTime": {
     "end_time": "2023-05-23T18:59:40.014699700Z",
     "start_time": "2023-05-23T18:59:36.776854600Z"
    }
   }
  },
  {
   "cell_type": "markdown",
   "source": [
    "* True distribution:\n",
    "[(0, 335),\n",
    " (1, 336),\n",
    " (2, 302),\n",
    " (3, 282),\n",
    " (4, 240),\n",
    " (5, 203),\n",
    " (6, 134),\n",
    " (7, 115),\n",
    " (8, 108)]"
   ],
   "metadata": {
    "collapsed": false
   }
  },
  {
   "cell_type": "code",
   "execution_count": null,
   "outputs": [],
   "source": [],
   "metadata": {
    "collapsed": false
   }
  }
 ],
 "metadata": {
  "kernelspec": {
   "display_name": "Python 3",
   "language": "python",
   "name": "python3"
  },
  "language_info": {
   "codemirror_mode": {
    "name": "ipython",
    "version": 2
   },
   "file_extension": ".py",
   "mimetype": "text/x-python",
   "name": "python",
   "nbconvert_exporter": "python",
   "pygments_lexer": "ipython2",
   "version": "2.7.6"
  }
 },
 "nbformat": 4,
 "nbformat_minor": 0
}
