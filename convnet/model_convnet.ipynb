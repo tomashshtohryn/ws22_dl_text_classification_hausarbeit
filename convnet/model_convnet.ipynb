{
 "cells": [
  {
   "cell_type": "markdown",
   "source": [
    "# Imports"
   ],
   "metadata": {
    "collapsed": false
   }
  },
  {
   "cell_type": "code",
   "execution_count": 1,
   "outputs": [],
   "source": [
    "from collections import Counter\n",
    "import matplotlib.pyplot as plt\n",
    "from datasets import load_dataset\n",
    "import pandas as pd\n",
    "import numpy as np\n",
    "\n",
    "from tqdm import tqdm\n",
    "\n",
    "import nltk\n",
    "from nltk.corpus import stopwords\n",
    "from nltk.tokenize import word_tokenize\n",
    "\n",
    "from tensorflow import keras\n",
    "from keras import layers\n",
    "from keras.preprocessing.text import Tokenizer\n",
    "from tensorflow.keras.preprocessing.sequence import pad_sequences\n",
    "from keras.callbacks import EarlyStopping\n",
    "\n",
    "from sklearn.model_selection import train_test_split\n",
    "\n",
    "from imblearn.over_sampling import SMOTE"
   ],
   "metadata": {
    "collapsed": false,
    "ExecuteTime": {
     "start_time": "2023-05-15T00:10:25.175869Z",
     "end_time": "2023-05-15T00:10:33.998564Z"
    }
   }
  },
  {
   "cell_type": "markdown",
   "source": [
    "# 1. Load and concatenate splitted dataset"
   ],
   "metadata": {
    "collapsed": false
   }
  },
  {
   "cell_type": "code",
   "execution_count": 2,
   "outputs": [
    {
     "name": "stderr",
     "output_type": "stream",
     "text": [
      "Found cached dataset gnad10 (C:/Users/tomas/.cache/huggingface/datasets/gnad10/default/1.1.0/3a8445be65795ad88270af4d797034c3d99f70f8352ca658c586faf1cf960881)\n"
     ]
    },
    {
     "data": {
      "text/plain": "  0%|          | 0/2 [00:00<?, ?it/s]",
      "application/vnd.jupyter.widget-view+json": {
       "version_major": 2,
       "version_minor": 0,
       "model_id": "6773a7c5c120422186a60600da81d069"
      }
     },
     "metadata": {},
     "output_type": "display_data"
    }
   ],
   "source": [
    "dataset = load_dataset('gnad10')\n",
    "df_train = dataset['train']\n",
    "df_test = dataset['test']\n",
    "df = pd.concat([pd.DataFrame(df_train), pd.DataFrame(df_test)], axis=0)"
   ],
   "metadata": {
    "collapsed": false,
    "ExecuteTime": {
     "start_time": "2023-05-15T00:10:34.006097Z",
     "end_time": "2023-05-15T00:10:37.463133Z"
    }
   }
  },
  {
   "cell_type": "markdown",
   "source": [
    "# 2. Remove stopwords, tokenize and pad text sequences"
   ],
   "metadata": {
    "collapsed": false
   }
  },
  {
   "cell_type": "code",
   "execution_count": 3,
   "outputs": [
    {
     "name": "stderr",
     "output_type": "stream",
     "text": [
      "[nltk_data] Downloading package stopwords to\n",
      "[nltk_data]     C:\\Users\\tomas\\AppData\\Roaming\\nltk_data...\n",
      "[nltk_data]   Package stopwords is already up-to-date!\n"
     ]
    }
   ],
   "source": [
    "nltk.download('stopwords')\n",
    "stop_words = set(stopwords.words('german'))"
   ],
   "metadata": {
    "collapsed": false,
    "ExecuteTime": {
     "start_time": "2023-05-15T00:10:37.468644Z",
     "end_time": "2023-05-15T00:10:37.658272Z"
    }
   }
  },
  {
   "cell_type": "code",
   "execution_count": 4,
   "outputs": [
    {
     "name": "stderr",
     "output_type": "stream",
     "text": [
      "Train tokenization: 100%|██████████| 10273/10273 [00:46<00:00, 220.23it/s]\n"
     ]
    }
   ],
   "source": [
    "text_tokens = [word_tokenize(text) for text in tqdm(df['text'], desc='Train tokenization')]"
   ],
   "metadata": {
    "collapsed": false,
    "ExecuteTime": {
     "start_time": "2023-05-15T00:10:37.660404Z",
     "end_time": "2023-05-15T00:11:24.318620Z"
    }
   }
  },
  {
   "cell_type": "code",
   "execution_count": 5,
   "outputs": [
    {
     "name": "stderr",
     "output_type": "stream",
     "text": [
      "Removing stop words: 100%|██████████| 10273/10273 [00:00<00:00, 10452.84it/s]\n"
     ]
    }
   ],
   "source": [
    "text_filtered = [[token for token in text if token.lower() not in stop_words] for text in tqdm(text_tokens, desc='Removing stop words')]"
   ],
   "metadata": {
    "collapsed": false,
    "ExecuteTime": {
     "start_time": "2023-05-15T00:11:24.323637Z",
     "end_time": "2023-05-15T00:11:25.314001Z"
    }
   }
  },
  {
   "cell_type": "code",
   "execution_count": 6,
   "outputs": [],
   "source": [
    "tokenizer = Tokenizer()\n",
    "tokenizer.fit_on_texts(text_filtered)\n",
    "text_tokenized = tokenizer.texts_to_sequences(text_filtered)"
   ],
   "metadata": {
    "collapsed": false,
    "ExecuteTime": {
     "start_time": "2023-05-15T00:11:25.314001Z",
     "end_time": "2023-05-15T00:11:29.424612Z"
    }
   }
  },
  {
   "cell_type": "code",
   "execution_count": 7,
   "outputs": [
    {
     "data": {
      "text/plain": "342"
     },
     "execution_count": 7,
     "metadata": {},
     "output_type": "execute_result"
    }
   ],
   "source": [
    "length = [len(token_list) for token_list in text_tokenized]\n",
    "SEQUENCE_LENGTH = int(np.quantile(length, 0.75))\n",
    "SEQUENCE_LENGTH"
   ],
   "metadata": {
    "collapsed": false,
    "ExecuteTime": {
     "start_time": "2023-05-15T00:11:29.430122Z",
     "end_time": "2023-05-15T00:11:29.439429Z"
    }
   }
  },
  {
   "cell_type": "code",
   "execution_count": 8,
   "outputs": [],
   "source": [
    "text_padded = pad_sequences(text_tokenized, maxlen=SEQUENCE_LENGTH)"
   ],
   "metadata": {
    "collapsed": false,
    "ExecuteTime": {
     "start_time": "2023-05-15T00:11:29.436901Z",
     "end_time": "2023-05-15T00:11:29.613035Z"
    }
   }
  },
  {
   "cell_type": "markdown",
   "source": [
    "# 3. Split dataframe into train and test subsets"
   ],
   "metadata": {
    "collapsed": false
   }
  },
  {
   "cell_type": "code",
   "execution_count": 9,
   "outputs": [],
   "source": [
    "X_train, x_test, y_train, y_test = train_test_split(text_padded, df['label'], test_size=0.2, stratify=df['label'])"
   ],
   "metadata": {
    "collapsed": false,
    "ExecuteTime": {
     "start_time": "2023-05-15T00:11:29.618546Z",
     "end_time": "2023-05-15T00:11:29.631434Z"
    }
   }
  },
  {
   "cell_type": "markdown",
   "source": [
    "# 4. Get class weights"
   ],
   "metadata": {
    "collapsed": false
   }
  },
  {
   "cell_type": "code",
   "execution_count": 10,
   "outputs": [
    {
     "name": "stdout",
     "output_type": "stream",
     "text": [
      "class weights:\n",
      " {7: 1.9936923823386703, 6: 1.709945900957137, 4: 0.9501676494392416, 0: 0.6804106640172214, 5: 1.1245210727969348, 1: 0.6804106640172214, 3: 0.8087786635173704, 2: 0.7552614649388842, 8: 2.1185872647589585}\n"
     ]
    }
   ],
   "source": [
    "class_counts = Counter(y_train)\n",
    "samples = sum(class_counts.values())\n",
    "class_weights = {}\n",
    "for label, count in class_counts.items():\n",
    "    class_weights[label] = (1 / count) * (samples / len(class_counts))\n",
    "\n",
    "print(f'class weights:\\n {class_weights}')"
   ],
   "metadata": {
    "collapsed": false,
    "ExecuteTime": {
     "start_time": "2023-05-15T00:11:29.638446Z",
     "end_time": "2023-05-15T00:11:29.669219Z"
    }
   }
  },
  {
   "cell_type": "markdown",
   "source": [
    "# 5. Apply *SMOTE* on train data"
   ],
   "metadata": {
    "collapsed": false
   }
  },
  {
   "cell_type": "raw",
   "source": [
    "smote = SMOTE()\n",
    "X_train, y_train = smote.fit_resample(X_train, y_train)"
   ],
   "metadata": {
    "collapsed": false
   }
  },
  {
   "cell_type": "code",
   "execution_count": 11,
   "outputs": [
    {
     "name": "stdout",
     "output_type": "stream",
     "text": [
      "shape of train texts: (8218, 342)\n",
      "shape of train labels: (8218,)\n",
      "shape of test texts: (2055, 342)\n",
      "shape of test labels: (2055,)\n"
     ]
    }
   ],
   "source": [
    "print(f'shape of train texts: {X_train.shape}\\n'\n",
    "      f'shape of train labels: {y_train.shape}\\n'\n",
    "      f'shape of test texts: {x_test.shape}\\n'\n",
    "      f'shape of test labels: {y_test.shape}')"
   ],
   "metadata": {
    "collapsed": false,
    "ExecuteTime": {
     "start_time": "2023-05-15T00:11:29.649885Z",
     "end_time": "2023-05-15T00:11:29.669219Z"
    }
   }
  },
  {
   "cell_type": "markdown",
   "source": [
    "# 6. Define the model"
   ],
   "metadata": {
    "collapsed": false
   }
  },
  {
   "cell_type": "code",
   "execution_count": 12,
   "outputs": [],
   "source": [
    "VOCAB_LENGTH = len(tokenizer.word_index) + 1\n",
    "VECTOR_SIZE = 100\n",
    "\n",
    "def get_model():\n",
    "\n",
    "      model = keras.Sequential()\n",
    "      model.add(layers.Embedding(input_dim=VOCAB_LENGTH, output_dim=VECTOR_SIZE, input_length=SEQUENCE_LENGTH))\n",
    "\n",
    "      model.add(layers.Conv1D(filters=128, kernel_size=5, activation='relu'))\n",
    "      model.add(layers.GlobalMaxPooling1D())\n",
    "      model.add(layers.Dense(128, activation='relu'))\n",
    "      model.add(layers.Dropout(0.5))\n",
    "\n",
    "      model.add(layers.Dense(9, activation='softmax'))\n",
    "      model.compile(loss='sparse_categorical_crossentropy', optimizer='adam', metrics=['accuracy'])\n",
    "\n",
    "      return model"
   ],
   "metadata": {
    "collapsed": false,
    "ExecuteTime": {
     "start_time": "2023-05-15T00:11:29.661744Z",
     "end_time": "2023-05-15T00:11:29.669219Z"
    }
   }
  },
  {
   "cell_type": "code",
   "execution_count": 13,
   "outputs": [
    {
     "name": "stdout",
     "output_type": "stream",
     "text": [
      "Model: \"sequential\"\n",
      "_________________________________________________________________\n",
      " Layer (type)                Output Shape              Param #   \n",
      "=================================================================\n",
      " embedding (Embedding)       (None, 342, 100)          22666300  \n",
      "                                                                 \n",
      " conv1d (Conv1D)             (None, 338, 128)          64128     \n",
      "                                                                 \n",
      " global_max_pooling1d (Globa  (None, 128)              0         \n",
      " lMaxPooling1D)                                                  \n",
      "                                                                 \n",
      " dense (Dense)               (None, 128)               16512     \n",
      "                                                                 \n",
      " dropout (Dropout)           (None, 128)               0         \n",
      "                                                                 \n",
      " dense_1 (Dense)             (None, 9)                 1161      \n",
      "                                                                 \n",
      "=================================================================\n",
      "Total params: 22,748,101\n",
      "Trainable params: 22,748,101\n",
      "Non-trainable params: 0\n",
      "_________________________________________________________________\n"
     ]
    }
   ],
   "source": [
    "model = get_model()\n",
    "model.summary()"
   ],
   "metadata": {
    "collapsed": false,
    "ExecuteTime": {
     "start_time": "2023-05-15T00:11:29.671227Z",
     "end_time": "2023-05-15T00:11:30.339825Z"
    }
   }
  },
  {
   "cell_type": "markdown",
   "source": [
    "# 7. Train the model, get metrics"
   ],
   "metadata": {
    "collapsed": false
   }
  },
  {
   "cell_type": "code",
   "execution_count": 14,
   "outputs": [],
   "source": [
    "early_stop = EarlyStopping(monitor='val_loss', patience=1, verbose=1, mode='min')"
   ],
   "metadata": {
    "collapsed": false,
    "ExecuteTime": {
     "start_time": "2023-05-15T00:11:30.340339Z",
     "end_time": "2023-05-15T00:11:30.373996Z"
    }
   }
  },
  {
   "cell_type": "code",
   "execution_count": 15,
   "outputs": [
    {
     "name": "stdout",
     "output_type": "stream",
     "text": [
      "Epoch 1/10\n",
      "257/257 [==============================] - 86s 329ms/step - loss: 1.9534 - accuracy: 0.2962 - val_loss: 1.2142 - val_accuracy: 0.6107\n",
      "Epoch 2/10\n",
      "257/257 [==============================] - 84s 329ms/step - loss: 0.9458 - accuracy: 0.7108 - val_loss: 0.7791 - val_accuracy: 0.7596\n",
      "Epoch 3/10\n",
      "257/257 [==============================] - 83s 322ms/step - loss: 0.2799 - accuracy: 0.9229 - val_loss: 0.6828 - val_accuracy: 0.7903\n",
      "Epoch 4/10\n",
      "257/257 [==============================] - 89s 344ms/step - loss: 0.0536 - accuracy: 0.9918 - val_loss: 0.6981 - val_accuracy: 0.7903\n",
      "Epoch 4: early stopping\n"
     ]
    }
   ],
   "source": [
    "history = model.fit(X_train, y_train, validation_data=(x_test, y_test), epochs=10, callbacks=[early_stop], class_weight=class_weights)"
   ],
   "metadata": {
    "collapsed": false,
    "ExecuteTime": {
     "start_time": "2023-05-15T00:11:30.348882Z",
     "end_time": "2023-05-15T00:17:12.079698Z"
    }
   }
  },
  {
   "cell_type": "markdown",
   "source": [
    "# 8. Visualize metrics"
   ],
   "metadata": {
    "collapsed": false
   }
  },
  {
   "cell_type": "code",
   "execution_count": 17,
   "outputs": [
    {
     "data": {
      "text/plain": "<Figure size 640x480 with 1 Axes>",
      "image/png": "[encoded data removed]"
     },
     "metadata": {},
     "output_type": "display_data"
    },
    {
     "data": {
      "text/plain": "<Figure size 640x480 with 1 Axes>",
      "image/png": "[encoded data removed]"
     },
     "metadata": {},
     "output_type": "display_data"
    }
   ],
   "source": [
    "plt.plot(history.history['loss'], label='Training loss')\n",
    "plt.plot(history.history['val_loss'], label='Validation loss')\n",
    "plt.title('Training and validation loss')\n",
    "plt.xlabel('Epoch')\n",
    "plt.ylabel('Loss')\n",
    "plt.legend()\n",
    "plt.show()\n",
    "\n",
    "# plot training and validation accuracy\n",
    "plt.plot(history.history['accuracy'], label='Training accuracy')\n",
    "plt.plot(history.history['val_accuracy'], label='Validation accuracy')\n",
    "plt.title('Training and validation accuracy')\n",
    "plt.xlabel('Epoch')\n",
    "plt.ylabel('Accuracy')\n",
    "plt.legend()\n",
    "plt.show()"
   ],
   "metadata": {
    "collapsed": false,
    "ExecuteTime": {
     "start_time": "2023-05-15T00:17:17.080017Z",
     "end_time": "2023-05-15T00:17:17.560644Z"
    }
   }
  },
  {
   "cell_type": "code",
   "execution_count": 16,
   "outputs": [],
   "source": [],
   "metadata": {
    "collapsed": false,
    "ExecuteTime": {
     "start_time": "2023-05-15T00:17:12.912555Z",
     "end_time": "2023-05-15T00:17:12.916574Z"
    }
   }
  }
 ],
 "metadata": {
  "kernelspec": {
   "display_name": "Python 3",
   "language": "python",
   "name": "python3"
  },
  "language_info": {
   "codemirror_mode": {
    "name": "ipython",
    "version": 2
   },
   "file_extension": ".py",
   "mimetype": "text/x-python",
   "name": "python",
   "nbconvert_exporter": "python",
   "pygments_lexer": "ipython2",
   "version": "2.7.6"
  }
 },
 "nbformat": 4,
 "nbformat_minor": 0
}
