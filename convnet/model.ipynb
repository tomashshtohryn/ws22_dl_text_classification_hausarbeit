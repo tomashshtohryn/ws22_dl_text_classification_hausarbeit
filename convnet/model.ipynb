{
 "cells": [
  {
   "cell_type": "markdown",
   "source": [
    "## Imports"
   ],
   "metadata": {
    "collapsed": false
   }
  },
  {
   "cell_type": "code",
   "execution_count": 1,
   "outputs": [],
   "source": [
    "from datasets import load_dataset\n",
    "import pandas as pd\n",
    "import numpy as np\n",
    "\n",
    "from tqdm import tqdm\n",
    "\n",
    "import nltk\n",
    "from nltk.corpus import stopwords\n",
    "from nltk.tokenize import word_tokenize\n",
    "\n",
    "from tensorflow import keras\n",
    "from keras import layers\n",
    "from keras.preprocessing.text import Tokenizer\n",
    "from tensorflow.keras.preprocessing.sequence import pad_sequences\n",
    "from tensorflow.keras import regularizers\n",
    "from keras.callbacks import EarlyStopping\n",
    "from keras.utils import to_categorical\n",
    "\n",
    "from sklearn.model_selection import train_test_split\n",
    "from sklearn.utils import class_weight\n",
    "\n",
    "from imblearn.over_sampling import SMOTE"
   ],
   "metadata": {
    "collapsed": false,
    "ExecuteTime": {
     "start_time": "2023-05-14T23:15:00.174946Z",
     "end_time": "2023-05-14T23:15:07.356982Z"
    }
   }
  },
  {
   "cell_type": "markdown",
   "source": [
    "## 1. Create test and set objects"
   ],
   "metadata": {
    "collapsed": false
   }
  },
  {
   "cell_type": "code",
   "execution_count": 2,
   "outputs": [
    {
     "name": "stderr",
     "output_type": "stream",
     "text": [
      "Found cached dataset gnad10 (C:/Users/tomas/.cache/huggingface/datasets/gnad10/default/1.1.0/3a8445be65795ad88270af4d797034c3d99f70f8352ca658c586faf1cf960881)\n"
     ]
    },
    {
     "data": {
      "text/plain": "  0%|          | 0/2 [00:00<?, ?it/s]",
      "application/vnd.jupyter.widget-view+json": {
       "version_major": 2,
       "version_minor": 0,
       "model_id": "aeea9917ccc64207a3fb85296fb800b0"
      }
     },
     "metadata": {},
     "output_type": "display_data"
    }
   ],
   "source": [
    "dataset = load_dataset('gnad10')"
   ],
   "metadata": {
    "collapsed": false,
    "ExecuteTime": {
     "start_time": "2023-05-14T23:15:07.360552Z",
     "end_time": "2023-05-14T23:15:10.282246Z"
    }
   }
  },
  {
   "cell_type": "code",
   "execution_count": 3,
   "outputs": [],
   "source": [
    "df_train = dataset['train']\n",
    "df_test = dataset['test']\n",
    "\n",
    "df = pd.concat([pd.DataFrame(df_train), pd.DataFrame(df_test)], axis=0)"
   ],
   "metadata": {
    "collapsed": false,
    "ExecuteTime": {
     "start_time": "2023-05-14T23:15:10.283253Z",
     "end_time": "2023-05-14T23:15:10.771390Z"
    }
   }
  },
  {
   "cell_type": "code",
   "execution_count": 4,
   "outputs": [],
   "source": [
    "train_texts, test_texts, train_labels, test_labels = train_test_split(df['text'], df['label'], test_size=0.2, stratify=df['label'])\n",
    "\n",
    "train_labels = np.array(train_labels)\n",
    "test_labels = np.array(test_labels)\n",
    "\n",
    "# train_texts = df_train['text']\n",
    "# #train_labels = np.array(df_train['label'])\n",
    "# train_labels = to_categorical(np.array(df_train['label']), num_classes=9)\n",
    "# test_texts = df_test['text']\n",
    "# #test_labels = np.array(df_test['label'])\n",
    "# test_labels = to_categorical(np.array(df_test['label']), num_classes=9)"
   ],
   "metadata": {
    "collapsed": false,
    "ExecuteTime": {
     "start_time": "2023-05-14T23:15:10.774397Z",
     "end_time": "2023-05-14T23:15:10.784205Z"
    }
   }
  },
  {
   "cell_type": "markdown",
   "source": [
    "# 2. Tokenize texts and remove stop words"
   ],
   "metadata": {
    "collapsed": false
   }
  },
  {
   "cell_type": "code",
   "execution_count": 5,
   "outputs": [
    {
     "name": "stderr",
     "output_type": "stream",
     "text": [
      "[nltk_data] Downloading package stopwords to\n",
      "[nltk_data]     C:\\Users\\tomas\\AppData\\Roaming\\nltk_data...\n",
      "[nltk_data]   Package stopwords is already up-to-date!\n"
     ]
    }
   ],
   "source": [
    "nltk.download('stopwords')\n",
    "stop_words = set(stopwords.words('german'))"
   ],
   "metadata": {
    "collapsed": false,
    "ExecuteTime": {
     "start_time": "2023-05-14T23:15:10.786212Z",
     "end_time": "2023-05-14T23:15:10.955328Z"
    }
   }
  },
  {
   "cell_type": "code",
   "execution_count": 6,
   "outputs": [
    {
     "name": "stderr",
     "output_type": "stream",
     "text": [
      "Train tokenization: 100%|██████████| 8218/8218 [00:35<00:00, 233.50it/s]\n",
      "Test tokenization: 100%|██████████| 2055/2055 [00:08<00:00, 243.34it/s]\n"
     ]
    }
   ],
   "source": [
    "train_tokenized = [word_tokenize(text) for text in tqdm(train_texts, desc='Train tokenization')]\n",
    "test_tokenized = [word_tokenize(text) for text in tqdm(test_texts, desc='Test tokenization')]"
   ],
   "metadata": {
    "collapsed": false,
    "ExecuteTime": {
     "start_time": "2023-05-14T23:15:10.956325Z",
     "end_time": "2023-05-14T23:15:54.610173Z"
    }
   }
  },
  {
   "cell_type": "code",
   "execution_count": 7,
   "outputs": [
    {
     "name": "stderr",
     "output_type": "stream",
     "text": [
      "Removing stop words: 100%|██████████| 8218/8218 [00:00<00:00, 9559.22it/s]\n",
      "Removing stop words: 100%|██████████| 2055/2055 [00:00<00:00, 8638.65it/s]\n"
     ]
    }
   ],
   "source": [
    "train_filtered = [[token for token in text if token.lower() not in stop_words] for text in tqdm(train_tokenized, desc='Removing stop words')]\n",
    "test_filtered = [[token for token in text if token.lower() not in stop_words] for text in tqdm(test_tokenized, desc='Removing stop words')]"
   ],
   "metadata": {
    "collapsed": false,
    "ExecuteTime": {
     "start_time": "2023-05-14T23:15:54.611172Z",
     "end_time": "2023-05-14T23:15:55.724935Z"
    }
   }
  },
  {
   "cell_type": "markdown",
   "source": [
    "# 3. Vectorize and pad data"
   ],
   "metadata": {
    "collapsed": false
   }
  },
  {
   "cell_type": "code",
   "execution_count": 8,
   "outputs": [],
   "source": [
    "tokenizer = Tokenizer()\n",
    "tokenizer.fit_on_texts(train_texts)\n",
    "train_sequences = tokenizer.texts_to_sequences(train_filtered)\n",
    "test_sequences = tokenizer.texts_to_sequences(test_tokenized) # test_filtered"
   ],
   "metadata": {
    "collapsed": false,
    "ExecuteTime": {
     "start_time": "2023-05-14T23:15:55.760181Z",
     "end_time": "2023-05-14T23:16:02.531964Z"
    }
   }
  },
  {
   "cell_type": "code",
   "execution_count": 9,
   "outputs": [
    {
     "data": {
      "text/plain": "265"
     },
     "execution_count": 9,
     "metadata": {},
     "output_type": "execute_result"
    }
   ],
   "source": [
    "length_train = [len(token_list) for token_list in train_sequences]\n",
    "SEQUENCE_LENGTH = int(np.quantile(length_train, 0.75))\n",
    "SEQUENCE_LENGTH"
   ],
   "metadata": {
    "collapsed": false,
    "ExecuteTime": {
     "start_time": "2023-05-14T23:16:02.535964Z",
     "end_time": "2023-05-14T23:16:02.557775Z"
    }
   }
  },
  {
   "cell_type": "code",
   "execution_count": 10,
   "outputs": [],
   "source": [
    "train_data = pad_sequences(train_sequences, maxlen=SEQUENCE_LENGTH)\n",
    "test_data = pad_sequences(test_sequences, maxlen=SEQUENCE_LENGTH)"
   ],
   "metadata": {
    "collapsed": false,
    "ExecuteTime": {
     "start_time": "2023-05-14T23:16:02.559343Z",
     "end_time": "2023-05-14T23:16:02.860465Z"
    }
   }
  },
  {
   "cell_type": "markdown",
   "source": [
    "# 4. Do SMOTE and reweighting"
   ],
   "metadata": {
    "collapsed": false
   }
  },
  {
   "cell_type": "code",
   "execution_count": 11,
   "outputs": [],
   "source": [
    "smote = SMOTE()\n",
    "train_data, train_labels = smote.fit_resample(train_data, train_labels)"
   ],
   "metadata": {
    "collapsed": false,
    "ExecuteTime": {
     "start_time": "2023-05-14T23:16:02.863459Z",
     "end_time": "2023-05-14T23:16:03.202149Z"
    }
   }
  },
  {
   "cell_type": "code",
   "execution_count": 12,
   "outputs": [
    {
     "name": "stdout",
     "output_type": "stream",
     "text": [
      "class weights:\n",
      " {3: 1.0, 0: 1.0, 6: 1.0, 8: 1.0, 7: 1.0, 5: 1.0, 4: 1.0, 2: 1.0, 1: 1.0}\n"
     ]
    }
   ],
   "source": [
    "from collections import Counter\n",
    "class_counts = Counter(train_labels)\n",
    "samples = sum(class_counts.values())\n",
    "class_weights = {}\n",
    "for label, count in class_counts.items():\n",
    "    class_weights[label] = (1 / count) * (samples / len(class_counts))\n",
    "\n",
    "print(f'class weights:\\n {class_weights}')"
   ],
   "metadata": {
    "collapsed": false,
    "ExecuteTime": {
     "start_time": "2023-05-14T23:16:03.200131Z",
     "end_time": "2023-05-14T23:16:03.225329Z"
    }
   }
  },
  {
   "cell_type": "code",
   "execution_count": 13,
   "outputs": [
    {
     "name": "stdout",
     "output_type": "stream",
     "text": [
      "shape of train texts: (12078, 265)\n",
      "shape of train labels: (12078,)\n",
      "shape of test texts: (2055, 265)\n",
      "shape of test labels: (2055,)\n"
     ]
    }
   ],
   "source": [
    "print(f'shape of train texts: {train_data.shape}\\n'\n",
    "      f'shape of train labels: {train_labels.shape}\\n'\n",
    "      f'shape of test texts: {test_data.shape}\\n'\n",
    "      f'shape of test labels: {test_labels.shape}')"
   ],
   "metadata": {
    "collapsed": false,
    "ExecuteTime": {
     "start_time": "2023-05-14T23:16:03.228330Z",
     "end_time": "2023-05-14T23:16:03.297140Z"
    }
   }
  },
  {
   "cell_type": "markdown",
   "source": [
    "# 5. Create a model"
   ],
   "metadata": {
    "collapsed": false
   }
  },
  {
   "cell_type": "code",
   "execution_count": 14,
   "outputs": [],
   "source": [
    "VOCAB_LENGTH = len(tokenizer.word_index) + 1\n",
    "VECTOR_SIZE = 100\n",
    "\n",
    "def get_model():\n",
    "\n",
    "      \"\"\"\n",
    "      model.add(layers.Conv1D(filters=32, kernel_size=3, activation='relu'))\n",
    "      model.add(layers.MaxPooling1D(pool_size=2))\n",
    "\n",
    "      model.add(layers.Conv1D(filters=64, kernel_size=3, activation='relu'))\n",
    "      model.add(layers.MaxPooling1D(pool_size=2))\n",
    "\n",
    "      model.add(layers.Flatten())\n",
    "      model.add(layers.Dense(units=128, activation='relu'))\n",
    "      model.add(layers.Dropout(rate=0.5))\n",
    "      model.add(layers.Dense(units=9, activation='softmax'))\n",
    "\n",
    "      model.add(layers.Conv1D(32, 7, activation='relu'))\n",
    "      model.add(layers.MaxPooling1D(2))\n",
    "      model.add(layers.Dropout(0.5))\n",
    "\n",
    "      model.add(layers.Conv1D(64, 5, activation='relu'))\n",
    "      model.add(layers.MaxPooling1D(2))\n",
    "      model.add(layers.Dropout(0.5))\n",
    "\n",
    "      model.add(layers.Conv1D(128, 3, activation='relu'))\n",
    "      model.add(layers.GlobalMaxPooling1D())\n",
    "      model.add(layers.Dropout(0.5))\n",
    "      \"\"\"\n",
    "\n",
    "      model = keras.Sequential()\n",
    "      model.add(layers.Embedding(input_dim=VOCAB_LENGTH, output_dim=VECTOR_SIZE, input_length=SEQUENCE_LENGTH))\n",
    "\n",
    "      # model.add(layers.Conv1D(128, 5, activation='relu'))\n",
    "      # model.add(layers.GlobalMaxPooling1D())\n",
    "      #\n",
    "      # model.add(layers.Dense(64, activation='relu'))\n",
    "      # model.add(layers.Dropout(0.5))\n",
    "\n",
    "      model.add(layers.Conv1D(filters=256, kernel_size=7, activation='relu'))\n",
    "      model.add(layers.GlobalMaxPooling1D())\n",
    "      model.add(layers.Dense(128, activation='relu'))\n",
    "      model.add(layers.Dropout(0.5))\n",
    "\n",
    "      model.add(layers.Dense(9, activation='softmax'))\n",
    "      model.compile(loss='sparse_categorical_crossentropy', optimizer='adam', metrics=['accuracy'])\n",
    "\n",
    "      return model"
   ],
   "metadata": {
    "collapsed": false,
    "ExecuteTime": {
     "start_time": "2023-05-14T23:16:03.243303Z",
     "end_time": "2023-05-14T23:16:03.367454Z"
    }
   }
  },
  {
   "cell_type": "code",
   "execution_count": 15,
   "outputs": [
    {
     "name": "stdout",
     "output_type": "stream",
     "text": [
      "Model: \"sequential\"\n",
      "_________________________________________________________________\n",
      " Layer (type)                Output Shape              Param #   \n",
      "=================================================================\n",
      " embedding (Embedding)       (None, 265, 100)          16693900  \n",
      "                                                                 \n",
      " conv1d (Conv1D)             (None, 259, 256)          179456    \n",
      "                                                                 \n",
      " global_max_pooling1d (Globa  (None, 256)              0         \n",
      " lMaxPooling1D)                                                  \n",
      "                                                                 \n",
      " dense (Dense)               (None, 128)               32896     \n",
      "                                                                 \n",
      " dropout (Dropout)           (None, 128)               0         \n",
      "                                                                 \n",
      " dense_1 (Dense)             (None, 9)                 1161      \n",
      "                                                                 \n",
      "=================================================================\n",
      "Total params: 16,907,413\n",
      "Trainable params: 16,907,413\n",
      "Non-trainable params: 0\n",
      "_________________________________________________________________\n"
     ]
    }
   ],
   "source": [
    "model = get_model()\n",
    "model.summary()"
   ],
   "metadata": {
    "collapsed": false,
    "ExecuteTime": {
     "start_time": "2023-05-14T23:16:03.263522Z",
     "end_time": "2023-05-14T23:16:04.017286Z"
    }
   }
  },
  {
   "cell_type": "markdown",
   "source": [
    "# 5. Fit the model and show metrics"
   ],
   "metadata": {
    "collapsed": false
   }
  },
  {
   "cell_type": "code",
   "execution_count": 16,
   "outputs": [],
   "source": [
    "early_stop = EarlyStopping(monitor='val_loss', patience=5, verbose=1, mode='min')"
   ],
   "metadata": {
    "collapsed": false,
    "ExecuteTime": {
     "start_time": "2023-05-14T23:16:03.959437Z",
     "end_time": "2023-05-14T23:16:04.017286Z"
    }
   }
  },
  {
   "cell_type": "code",
   "execution_count": 17,
   "outputs": [
    {
     "name": "stdout",
     "output_type": "stream",
     "text": [
      "Epoch 1/10\n",
      "378/378 [==============================] - 122s 315ms/step - loss: 1.9619 - accuracy: 0.2621 - val_loss: 2.4682 - val_accuracy: 0.2477\n",
      "Epoch 2/10\n",
      "378/378 [==============================] - 119s 316ms/step - loss: 1.1410 - accuracy: 0.5903 - val_loss: 2.8581 - val_accuracy: 0.2929\n",
      "Epoch 3/10\n",
      "378/378 [==============================] - 114s 301ms/step - loss: 0.5260 - accuracy: 0.8218 - val_loss: 2.6162 - val_accuracy: 0.3523\n",
      "Epoch 4/10\n",
      "378/378 [==============================] - 116s 308ms/step - loss: 0.1626 - accuracy: 0.9536 - val_loss: 2.7337 - val_accuracy: 0.3966\n",
      "Epoch 5/10\n",
      "378/378 [==============================] - 111s 292ms/step - loss: 0.0538 - accuracy: 0.9877 - val_loss: 2.5729 - val_accuracy: 0.4579\n",
      "Epoch 6/10\n",
      "378/378 [==============================] - 108s 286ms/step - loss: 0.0299 - accuracy: 0.9941 - val_loss: 2.8858 - val_accuracy: 0.4209\n",
      "Epoch 6: early stopping\n"
     ]
    }
   ],
   "source": [
    "history = model.fit(train_data, train_labels, validation_data=(test_data, test_labels), epochs=10, callbacks=[early_stop]) #class_weight=class_weights"
   ],
   "metadata": {
    "collapsed": false,
    "ExecuteTime": {
     "start_time": "2023-05-14T23:16:03.972126Z",
     "end_time": "2023-05-14T23:27:34.275372Z"
    }
   }
  },
  {
   "cell_type": "code",
   "execution_count": 18,
   "outputs": [
    {
     "name": "stdout",
     "output_type": "stream",
     "text": [
      "65/65 [==============================] - 3s 41ms/step - loss: 2.8858 - accuracy: 0.4209\n"
     ]
    }
   ],
   "source": [
    "test_loss, test_accuracy = model.evaluate(test_data, test_labels)"
   ],
   "metadata": {
    "collapsed": false,
    "ExecuteTime": {
     "start_time": "2023-05-14T23:27:34.279911Z",
     "end_time": "2023-05-14T23:27:37.106563Z"
    }
   }
  },
  {
   "cell_type": "markdown",
   "source": [
    "# 6. Visualize metrics"
   ],
   "metadata": {
    "collapsed": false
   }
  },
  {
   "cell_type": "code",
   "execution_count": 19,
   "outputs": [
    {
     "data": {
      "text/plain": "<Figure size 640x480 with 1 Axes>",
      "image/png": "[encoded data removed]"
     },
     "metadata": {},
     "output_type": "display_data"
    },
    {
     "data": {
      "text/plain": "<Figure size 640x480 with 1 Axes>",
      "image/png": "[encoded data removed]"
     },
     "metadata": {},
     "output_type": "display_data"
    }
   ],
   "source": [
    "import matplotlib.pyplot as plt\n",
    "\n",
    "plt.plot(history.history['loss'], label='Training loss')\n",
    "plt.plot(history.history['val_loss'], label='Validation loss')\n",
    "plt.title('Training and validation loss')\n",
    "plt.xlabel('Epoch')\n",
    "plt.ylabel('Loss')\n",
    "plt.legend()\n",
    "plt.show()\n",
    "\n",
    "# plot training and validation accuracy\n",
    "plt.plot(history.history['accuracy'], label='Training accuracy')\n",
    "plt.plot(history.history['val_accuracy'], label='Validation accuracy')\n",
    "plt.title('Training and validation accuracy')\n",
    "plt.xlabel('Epoch')\n",
    "plt.ylabel('Accuracy')\n",
    "plt.legend()\n",
    "plt.show()"
   ],
   "metadata": {
    "collapsed": false,
    "ExecuteTime": {
     "start_time": "2023-05-14T23:27:37.068988Z",
     "end_time": "2023-05-14T23:27:38.897395Z"
    }
   }
  },
  {
   "cell_type": "code",
   "execution_count": 19,
   "outputs": [],
   "source": [],
   "metadata": {
    "collapsed": false,
    "ExecuteTime": {
     "start_time": "2023-05-14T23:27:38.894916Z",
     "end_time": "2023-05-14T23:27:38.902959Z"
    }
   }
  }
 ],
 "metadata": {
  "kernelspec": {
   "display_name": "Python 3",
   "language": "python",
   "name": "python3"
  },
  "language_info": {
   "codemirror_mode": {
    "name": "ipython",
    "version": 2
   },
   "file_extension": ".py",
   "mimetype": "text/x-python",
   "name": "python",
   "nbconvert_exporter": "python",
   "pygments_lexer": "ipython2",
   "version": "2.7.6"
  }
 },
 "nbformat": 4,
 "nbformat_minor": 0
}
